{
 "cells": [
  {
   "cell_type": "code",
   "execution_count": 21,
   "metadata": {},
   "outputs": [],
   "source": [
    "import pandas as pd"
   ]
  },
  {
   "cell_type": "code",
   "execution_count": 22,
   "metadata": {},
   "outputs": [],
   "source": [
    "data = pd.read_csv('bow_representation_with_vectors.csv')"
   ]
  },
  {
   "cell_type": "code",
   "execution_count": 23,
   "metadata": {},
   "outputs": [
    {
     "data": {
      "text/plain": [
       "(200, 2433)"
      ]
     },
     "execution_count": 23,
     "metadata": {},
     "output_type": "execute_result"
    }
   ],
   "source": [
    "data.shape"
   ]
  },
  {
   "cell_type": "code",
   "execution_count": 24,
   "metadata": {},
   "outputs": [
    {
     "data": {
      "text/plain": [
       "(200, 2433)"
      ]
     },
     "execution_count": 24,
     "metadata": {},
     "output_type": "execute_result"
    }
   ],
   "source": [
    "data.shape"
   ]
  },
  {
   "cell_type": "code",
   "execution_count": 25,
   "metadata": {},
   "outputs": [
    {
     "data": {
      "text/html": [
       "<div>\n",
       "<style scoped>\n",
       "    .dataframe tbody tr th:only-of-type {\n",
       "        vertical-align: middle;\n",
       "    }\n",
       "\n",
       "    .dataframe tbody tr th {\n",
       "        vertical-align: top;\n",
       "    }\n",
       "\n",
       "    .dataframe thead th {\n",
       "        text-align: right;\n",
       "    }\n",
       "</style>\n",
       "<table border=\"1\" class=\"dataframe\">\n",
       "  <thead>\n",
       "    <tr style=\"text-align: right;\">\n",
       "      <th></th>\n",
       "      <th>Dokumen</th>\n",
       "      <th>a</th>\n",
       "      <th>aahpic</th>\n",
       "      <th>aan</th>\n",
       "      <th>abang</th>\n",
       "      <th>abdillahtohastatusvideoquotceramah</th>\n",
       "      <th>abdul</th>\n",
       "      <th>abfeebbgoblok</th>\n",
       "      <th>abg</th>\n",
       "      <th>abis</th>\n",
       "      <th>...</th>\n",
       "      <th>yuk</th>\n",
       "      <th>yukk</th>\n",
       "      <th>z</th>\n",
       "      <th>zaman</th>\n",
       "      <th>zap</th>\n",
       "      <th>zionist</th>\n",
       "      <th>zul</th>\n",
       "      <th>zuljumadi</th>\n",
       "      <th>zz</th>\n",
       "      <th>Vectors</th>\n",
       "    </tr>\n",
       "  </thead>\n",
       "  <tbody>\n",
       "    <tr>\n",
       "      <th>0</th>\n",
       "      <td>Dokumen 1</td>\n",
       "      <td>0</td>\n",
       "      <td>0</td>\n",
       "      <td>0</td>\n",
       "      <td>0</td>\n",
       "      <td>0</td>\n",
       "      <td>0</td>\n",
       "      <td>0</td>\n",
       "      <td>0</td>\n",
       "      <td>0</td>\n",
       "      <td>...</td>\n",
       "      <td>0</td>\n",
       "      <td>0</td>\n",
       "      <td>0</td>\n",
       "      <td>0</td>\n",
       "      <td>0</td>\n",
       "      <td>0</td>\n",
       "      <td>0</td>\n",
       "      <td>0</td>\n",
       "      <td>0</td>\n",
       "      <td>(0, 181) 1 (0, 780) 1 (0, 1098) 2 (0, 891) 1 (...</td>\n",
       "    </tr>\n",
       "    <tr>\n",
       "      <th>1</th>\n",
       "      <td>Dokumen 2</td>\n",
       "      <td>0</td>\n",
       "      <td>0</td>\n",
       "      <td>0</td>\n",
       "      <td>0</td>\n",
       "      <td>0</td>\n",
       "      <td>0</td>\n",
       "      <td>0</td>\n",
       "      <td>0</td>\n",
       "      <td>0</td>\n",
       "      <td>...</td>\n",
       "      <td>0</td>\n",
       "      <td>0</td>\n",
       "      <td>0</td>\n",
       "      <td>0</td>\n",
       "      <td>0</td>\n",
       "      <td>0</td>\n",
       "      <td>0</td>\n",
       "      <td>0</td>\n",
       "      <td>0</td>\n",
       "      <td>(1, 1098) 2 (1, 1305) 3 (1, 690) 3 (1, 1334) 1...</td>\n",
       "    </tr>\n",
       "    <tr>\n",
       "      <th>2</th>\n",
       "      <td>Dokumen 3</td>\n",
       "      <td>0</td>\n",
       "      <td>0</td>\n",
       "      <td>0</td>\n",
       "      <td>0</td>\n",
       "      <td>0</td>\n",
       "      <td>0</td>\n",
       "      <td>0</td>\n",
       "      <td>0</td>\n",
       "      <td>0</td>\n",
       "      <td>...</td>\n",
       "      <td>0</td>\n",
       "      <td>0</td>\n",
       "      <td>0</td>\n",
       "      <td>0</td>\n",
       "      <td>0</td>\n",
       "      <td>0</td>\n",
       "      <td>0</td>\n",
       "      <td>0</td>\n",
       "      <td>0</td>\n",
       "      <td>(2, 1902) 1 (2, 1936) 1 (2, 1082) 1 (2, 1219) ...</td>\n",
       "    </tr>\n",
       "    <tr>\n",
       "      <th>3</th>\n",
       "      <td>Dokumen 4</td>\n",
       "      <td>0</td>\n",
       "      <td>0</td>\n",
       "      <td>0</td>\n",
       "      <td>0</td>\n",
       "      <td>0</td>\n",
       "      <td>0</td>\n",
       "      <td>0</td>\n",
       "      <td>0</td>\n",
       "      <td>0</td>\n",
       "      <td>...</td>\n",
       "      <td>0</td>\n",
       "      <td>0</td>\n",
       "      <td>0</td>\n",
       "      <td>0</td>\n",
       "      <td>0</td>\n",
       "      <td>0</td>\n",
       "      <td>0</td>\n",
       "      <td>0</td>\n",
       "      <td>0</td>\n",
       "      <td>(3, 833) 1 (3, 145) 1 (3, 1147) 1 (3, 167) 1 (...</td>\n",
       "    </tr>\n",
       "    <tr>\n",
       "      <th>4</th>\n",
       "      <td>Dokumen 5</td>\n",
       "      <td>0</td>\n",
       "      <td>0</td>\n",
       "      <td>0</td>\n",
       "      <td>0</td>\n",
       "      <td>0</td>\n",
       "      <td>0</td>\n",
       "      <td>0</td>\n",
       "      <td>0</td>\n",
       "      <td>0</td>\n",
       "      <td>...</td>\n",
       "      <td>0</td>\n",
       "      <td>0</td>\n",
       "      <td>0</td>\n",
       "      <td>0</td>\n",
       "      <td>0</td>\n",
       "      <td>0</td>\n",
       "      <td>0</td>\n",
       "      <td>0</td>\n",
       "      <td>0</td>\n",
       "      <td>(4, 2106) 1 (4, 2128) 1 (4, 1536) 1 (4, 25) 3 ...</td>\n",
       "    </tr>\n",
       "  </tbody>\n",
       "</table>\n",
       "<p>5 rows × 2433 columns</p>\n",
       "</div>"
      ],
      "text/plain": [
       "     Dokumen  a  aahpic  aan  abang  abdillahtohastatusvideoquotceramah  \\\n",
       "0  Dokumen 1  0       0    0      0                                   0   \n",
       "1  Dokumen 2  0       0    0      0                                   0   \n",
       "2  Dokumen 3  0       0    0      0                                   0   \n",
       "3  Dokumen 4  0       0    0      0                                   0   \n",
       "4  Dokumen 5  0       0    0      0                                   0   \n",
       "\n",
       "   abdul  abfeebbgoblok  abg  abis  ...  yuk  yukk  z  zaman  zap  zionist  \\\n",
       "0      0              0    0     0  ...    0     0  0      0    0        0   \n",
       "1      0              0    0     0  ...    0     0  0      0    0        0   \n",
       "2      0              0    0     0  ...    0     0  0      0    0        0   \n",
       "3      0              0    0     0  ...    0     0  0      0    0        0   \n",
       "4      0              0    0     0  ...    0     0  0      0    0        0   \n",
       "\n",
       "   zul  zuljumadi  zz                                            Vectors  \n",
       "0    0          0   0  (0, 181) 1 (0, 780) 1 (0, 1098) 2 (0, 891) 1 (...  \n",
       "1    0          0   0  (1, 1098) 2 (1, 1305) 3 (1, 690) 3 (1, 1334) 1...  \n",
       "2    0          0   0  (2, 1902) 1 (2, 1936) 1 (2, 1082) 1 (2, 1219) ...  \n",
       "3    0          0   0  (3, 833) 1 (3, 145) 1 (3, 1147) 1 (3, 167) 1 (...  \n",
       "4    0          0   0  (4, 2106) 1 (4, 2128) 1 (4, 1536) 1 (4, 25) 3 ...  \n",
       "\n",
       "[5 rows x 2433 columns]"
      ]
     },
     "execution_count": 25,
     "metadata": {},
     "output_type": "execute_result"
    }
   ],
   "source": [
    "data.tail()"
   ]
  },
  {
   "cell_type": "code",
   "execution_count": null,
   "metadata": {},
   "outputs": [],
   "source": []
  }
 ],
 "metadata": {
  "kernelspec": {
   "display_name": ".env",
   "language": "python",
   "name": "python3"
  },
  "language_info": {
   "codemirror_mode": {
    "name": "ipython",
    "version": 3
   },
   "file_extension": ".py",
   "mimetype": "text/x-python",
   "name": "python",
   "nbconvert_exporter": "python",
   "pygments_lexer": "ipython3",
   "version": "3.10.6"
  }
 },
 "nbformat": 4,
 "nbformat_minor": 2
}
