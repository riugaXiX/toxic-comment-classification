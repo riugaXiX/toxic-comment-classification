{
 "cells": [
  {
   "cell_type": "code",
   "execution_count": 36,
   "metadata": {},
   "outputs": [],
   "source": [
    "from tensorflow.keras.models import load_model\n",
    "from tensorflow.keras.preprocessing.sequence import pad_sequences\n",
    "from tensorflow.keras.preprocessing.text import Tokenizer\n",
    "import pickle"
   ]
  },
  {
   "cell_type": "code",
   "execution_count": 37,
   "metadata": {},
   "outputs": [],
   "source": [
    "model = load_model('../output/lstmModel.keras')"
   ]
  },
  {
   "cell_type": "code",
   "execution_count": 38,
   "metadata": {},
   "outputs": [],
   "source": [
    "# Muat tokenizer\n",
    "with open('../output/tokenizer.pkl', 'rb') as handle:\n",
    "    tokenizer = pickle.load(handle)"
   ]
  },
  {
   "cell_type": "code",
   "execution_count": 39,
   "metadata": {},
   "outputs": [],
   "source": [
    "new_data = [\n",
    "    \"Eh Rizky, muka lu kek kontol, kontol, kontol, kontol Dasar kamu kontol, memek, angsa\"\n",
    "]"
   ]
  },
  {
   "cell_type": "code",
   "execution_count": 40,
   "metadata": {},
   "outputs": [
    {
     "name": "stdout",
     "output_type": "stream",
     "text": [
      "\u001b[1m1/1\u001b[0m \u001b[32m━━━━━━━━━━━━━━━━━━━━\u001b[0m\u001b[37m\u001b[0m \u001b[1m0s\u001b[0m 246ms/step\n",
      "[[9.9846768e-01 2.3490107e-03 5.0774281e-04 1.1098091e-01]]\n"
     ]
    }
   ],
   "source": [
    "# Preprocess data baru\n",
    "new_sequences = tokenizer.texts_to_sequences(new_data)\n",
    "padded_new_sequences = pad_sequences(new_sequences, maxlen=100)\n",
    "\n",
    "# Prediksi\n",
    "predictions = model.predict(padded_new_sequences)\n",
    "\n",
    "# Menampilkan hasil prediksi\n",
    "print(predictions)"
   ]
  },
  {
   "cell_type": "code",
   "execution_count": 41,
   "metadata": {},
   "outputs": [
    {
     "name": "stdout",
     "output_type": "stream",
     "text": [
      "{'pornografi': (0.9984677, 1), 'sara': (0.0023490107, 0), 'radikalisme': (0.0005077428, 0), 'pencemaran_nama_baik': (0.11098091, 0)}\n",
      "Comment anda mengandung kata kata: pornografi (score: 0.9985)\n"
     ]
    }
   ],
   "source": [
    "# Nama label sesuai urutan\n",
    "labels = ['pornografi', 'sara', 'radikalisme', 'pencemaran_nama_baik']\n",
    "\n",
    "# Tentukan ambang batas\n",
    "threshold = 0.5\n",
    "\n",
    "# Konversi probabilitas ke label 0 atau 1\n",
    "binary_predictions = (predictions > threshold).astype(int)\n",
    "\n",
    "# Kaitkan hasilnya dengan nama label\n",
    "predicted_labels = {labels[i]: (predictions[0, i], binary_predictions[0, i]) for i in range(len(labels))}\n",
    "\n",
    "# Menampilkan hasil\n",
    "print(predicted_labels)\n",
    "\n",
    "# Membuat daftar label dan skor yang punya nilai 1\n",
    "detected_labels_with_scores = [(label, score) for label, (score, binary_value) in predicted_labels.items() if binary_value == 1]\n",
    "\n",
    "# Membuat pesan hasil prediksi\n",
    "if detected_labels_with_scores:\n",
    "    detected_labels_str = ', '.join([f\"{label} (score: {score:.4f})\" for label, score in detected_labels_with_scores])\n",
    "    message = f\"Comment anda mengandung kata kata: {detected_labels_str}\"\n",
    "else:\n",
    "    message = \"Comment anda tidak mengandung kata kata berbahaya.\"\n",
    "\n",
    "# Menampilkan pesan\n",
    "print(message)"
   ]
  },
  {
   "cell_type": "code",
   "execution_count": null,
   "metadata": {},
   "outputs": [],
   "source": []
  }
 ],
 "metadata": {
  "kernelspec": {
   "display_name": "Python 3",
   "language": "python",
   "name": "python3"
  },
  "language_info": {
   "codemirror_mode": {
    "name": "ipython",
    "version": 3
   },
   "file_extension": ".py",
   "mimetype": "text/x-python",
   "name": "python",
   "nbconvert_exporter": "python",
   "pygments_lexer": "ipython3",
   "version": "3.10.6"
  }
 },
 "nbformat": 4,
 "nbformat_minor": 2
}
